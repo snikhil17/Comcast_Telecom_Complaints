{
 "cells": [
  {
   "cell_type": "markdown",
   "id": "perceived-mobility",
   "metadata": {},
   "source": [
    "# 1. Problem Statement and Overview\n",
    "\n",
    "><div class=\"alert alert-info\" role=\"alert\">\n",
    "><ul>\n",
    ">    <li>Comcast is an American global telecommunication company. The firm has been providing terrible customer service. They continue to fall short despite repeated promises to improve. Only last month (October 2016) the authority fined them a $2.3 million, after receiving over 1000 consumer complaints.</li>\n",
    ">    <li>The existing database will serve as a repository of public customer complaints filed against Comcast. It will help to pin down what is wrong with Comcast's customer service.</li>\n",
    "></ul>\n",
    "></div>\n",
    "\n",
    "\n",
    "\n",
    "## Data Dictionary:\n",
    "><div class=\"alert alert-info\" role=\"alert\">\n",
    "><ul>\n",
    ">    <li><b>Ticket #</b> : Ticket number assigned to each complaint</li>\n",
    ">    <li><b>Customer Complaint</b> : Description of complaint</li>\n",
    ">    <li><b>Date</b> : Date of complaint</li>\n",
    ">    <li><b>Time</b> : Time of complaint</li>\n",
    ">    <li><b>Received Via</b> : Mode of communication of the complaint</li>\n",
    ">    <li><b>City</b> : Customer city</li>\n",
    ">    <li><b>State</b> : Customer state</li>\n",
    ">    <li><b>Zipcode</b> : Customer zip</li>\n",
    ">    <li><b>Status</b> : Status of complaint</li>\n",
    ">    <li><b>Filing on behalf of someone</b> : Yes / No</li>\n",
    "></ul>\n",
    "></div>\n",
    "\n",
    "\n",
    "\n",
    "## Goal of this notebook\n",
    "><div class=\"alert alert-info\" role=\"alert\">\n",
    "><ul>\n",
    "><li>Exploratory Data Analysis</li>\n",
    "><li>Data Preprocessing</li>\n",
    "><li>Perform Analytical Tasks\n",
    ">    <br>Complaints received Monthly Basis\n",
    ">    <br>Complaints received Daily Basis \n",
    "><li>Table with the frequency of complaint types.\n",
    ">    <br>Which complaint types are maximum i.e., around internet, network issues, or across any other domains.</p>\n",
    "><li>Creating a new categorical variable with value as Open and Closed.\n",
    "><li>State wise status of complaints in a stacked bar chart. \n",
    ">    <br>Which state has the maximum complaints\n",
    ">    <br>Which state has the highest percentage of unresolved complaints</p>\n",
    "><li>Percentage of complaints resolved till date, which were received through the Internet and customer care calls.</li>\n",
    "></ul>\n",
    "></div>"
   ]
  },
  {
   "cell_type": "markdown",
   "id": "uniform-guidance",
   "metadata": {},
   "source": [
    "# 2. Import Required Libraries\n",
    "<a id='# 2. Import Required Libraries'></a>"
   ]
  },
  {
   "cell_type": "code",
   "execution_count": 1,
   "id": "opposite-semiconductor",
   "metadata": {},
   "outputs": [
    {
     "name": "stderr",
     "output_type": "stream",
     "text": [
      "[nltk_data] Downloading package stopwords to\n",
      "[nltk_data]     C:\\Users\\nshre\\AppData\\Roaming\\nltk_data...\n",
      "[nltk_data]   Package stopwords is already up-to-date!\n"
     ]
    }
   ],
   "source": [
    "# Supress Warnings\n",
    "import warnings\n",
    "warnings.filterwarnings('ignore')\n",
    "\n",
    "# import required libraries\n",
    "import numpy as np\n",
    "import pandas as pd\n",
    "import datetime as dt\n",
    "\n",
    "# for data visualization\n",
    "import matplotlib.pyplot as plt\n",
    "import seaborn as sns\n",
    "\n",
    "# for Interactive Shells\n",
    "from IPython.display import display\n",
    "\n",
    "# setting up the chart size and background\n",
    "plt.rcParams['figure.figsize'] = (16, 8)\n",
    "plt.style.use('fivethirtyeight')\n",
    "\n",
    "# For words Preprocessesing\n",
    "import nltk\n",
    "import re\n",
    "from bs4 import BeautifulSoup as bs\n",
    "nltk.download('stopwords')\n",
    "from nltk.corpus import stopwords"
   ]
  },
  {
   "cell_type": "markdown",
   "id": "biological-emerald",
   "metadata": {},
   "source": [
    "# 3. Exploratory Data Analysis"
   ]
  },
  {
   "cell_type": "code",
   "execution_count": 2,
   "id": "optical-dream",
   "metadata": {
    "scrolled": true
   },
   "outputs": [
    {
     "data": {
      "text/html": [
       "<div>\n",
       "<style scoped>\n",
       "    .dataframe tbody tr th:only-of-type {\n",
       "        vertical-align: middle;\n",
       "    }\n",
       "\n",
       "    .dataframe tbody tr th {\n",
       "        vertical-align: top;\n",
       "    }\n",
       "\n",
       "    .dataframe thead th {\n",
       "        text-align: right;\n",
       "    }\n",
       "</style>\n",
       "<table border=\"1\" class=\"dataframe\">\n",
       "  <thead>\n",
       "    <tr style=\"text-align: right;\">\n",
       "      <th></th>\n",
       "      <th>Ticket #</th>\n",
       "      <th>Customer Complaint</th>\n",
       "      <th>Date</th>\n",
       "      <th>Date_month_year</th>\n",
       "      <th>Time</th>\n",
       "      <th>Received Via</th>\n",
       "      <th>City</th>\n",
       "      <th>State</th>\n",
       "      <th>Zip code</th>\n",
       "      <th>Status</th>\n",
       "      <th>Filing on Behalf of Someone</th>\n",
       "    </tr>\n",
       "  </thead>\n",
       "  <tbody>\n",
       "    <tr>\n",
       "      <th>0</th>\n",
       "      <td>250635</td>\n",
       "      <td>Comcast Cable Internet Speeds</td>\n",
       "      <td>22-04-15</td>\n",
       "      <td>22-Apr-15</td>\n",
       "      <td>3:53:50 PM</td>\n",
       "      <td>Customer Care Call</td>\n",
       "      <td>Abingdon</td>\n",
       "      <td>Maryland</td>\n",
       "      <td>21009</td>\n",
       "      <td>Closed</td>\n",
       "      <td>No</td>\n",
       "    </tr>\n",
       "    <tr>\n",
       "      <th>1</th>\n",
       "      <td>223441</td>\n",
       "      <td>Payment disappear - service got disconnected</td>\n",
       "      <td>04-08-15</td>\n",
       "      <td>04-Aug-15</td>\n",
       "      <td>10:22:56 AM</td>\n",
       "      <td>Internet</td>\n",
       "      <td>Acworth</td>\n",
       "      <td>Georgia</td>\n",
       "      <td>30102</td>\n",
       "      <td>Closed</td>\n",
       "      <td>No</td>\n",
       "    </tr>\n",
       "    <tr>\n",
       "      <th>2</th>\n",
       "      <td>242732</td>\n",
       "      <td>Speed and Service</td>\n",
       "      <td>18-04-15</td>\n",
       "      <td>18-Apr-15</td>\n",
       "      <td>9:55:47 AM</td>\n",
       "      <td>Internet</td>\n",
       "      <td>Acworth</td>\n",
       "      <td>Georgia</td>\n",
       "      <td>30101</td>\n",
       "      <td>Closed</td>\n",
       "      <td>Yes</td>\n",
       "    </tr>\n",
       "    <tr>\n",
       "      <th>3</th>\n",
       "      <td>277946</td>\n",
       "      <td>Comcast Imposed a New Usage Cap of 300GB that ...</td>\n",
       "      <td>05-07-15</td>\n",
       "      <td>05-Jul-15</td>\n",
       "      <td>11:59:35 AM</td>\n",
       "      <td>Internet</td>\n",
       "      <td>Acworth</td>\n",
       "      <td>Georgia</td>\n",
       "      <td>30101</td>\n",
       "      <td>Open</td>\n",
       "      <td>Yes</td>\n",
       "    </tr>\n",
       "    <tr>\n",
       "      <th>4</th>\n",
       "      <td>307175</td>\n",
       "      <td>Comcast not working and no service to boot</td>\n",
       "      <td>26-05-15</td>\n",
       "      <td>26-May-15</td>\n",
       "      <td>1:25:26 PM</td>\n",
       "      <td>Internet</td>\n",
       "      <td>Acworth</td>\n",
       "      <td>Georgia</td>\n",
       "      <td>30101</td>\n",
       "      <td>Solved</td>\n",
       "      <td>No</td>\n",
       "    </tr>\n",
       "  </tbody>\n",
       "</table>\n",
       "</div>"
      ],
      "text/plain": [
       "  Ticket #                                 Customer Complaint      Date  \\\n",
       "0   250635                      Comcast Cable Internet Speeds  22-04-15   \n",
       "1   223441       Payment disappear - service got disconnected  04-08-15   \n",
       "2   242732                                  Speed and Service  18-04-15   \n",
       "3   277946  Comcast Imposed a New Usage Cap of 300GB that ...  05-07-15   \n",
       "4   307175         Comcast not working and no service to boot  26-05-15   \n",
       "\n",
       "  Date_month_year         Time        Received Via      City     State  \\\n",
       "0       22-Apr-15   3:53:50 PM  Customer Care Call  Abingdon  Maryland   \n",
       "1       04-Aug-15  10:22:56 AM            Internet   Acworth   Georgia   \n",
       "2       18-Apr-15   9:55:47 AM            Internet   Acworth   Georgia   \n",
       "3       05-Jul-15  11:59:35 AM            Internet   Acworth   Georgia   \n",
       "4       26-May-15   1:25:26 PM            Internet   Acworth   Georgia   \n",
       "\n",
       "   Zip code  Status Filing on Behalf of Someone  \n",
       "0     21009  Closed                          No  \n",
       "1     30102  Closed                          No  \n",
       "2     30101  Closed                         Yes  \n",
       "3     30101    Open                         Yes  \n",
       "4     30101  Solved                          No  "
      ]
     },
     "execution_count": 2,
     "metadata": {},
     "output_type": "execute_result"
    }
   ],
   "source": [
    "data = pd.read_csv(\"Comcast_telecom_complaints_data.csv\")\n",
    "data.head()"
   ]
  },
  {
   "cell_type": "code",
   "execution_count": 3,
   "id": "consolidated-civilian",
   "metadata": {},
   "outputs": [
    {
     "data": {
      "text/plain": [
       "array(['22-04-15', '04-08-15', '18-04-15', '05-07-15', '26-05-15',\n",
       "       '06-12-15', '24-06-15', '23-06-15', '06-01-15', '28-06-15',\n",
       "       '24-04-15', '05-06-15', '13-06-15', '30-06-15', '27-06-15',\n",
       "       '16-04-15', '04-11-15', '06-02-15', '06-07-15', '06-08-15',\n",
       "       '05-02-15', '22-06-15', '28-04-15', '24-05-15', '29-04-15',\n",
       "       '19-05-15', '28-05-15', '06-05-15', '20-06-15', '29-06-15',\n",
       "       '21-05-15', '18-06-15', '16-06-15', '05-12-15', '14-04-15',\n",
       "       '15-04-15', '13-05-15', '27-05-15', '19-06-15', '25-06-15',\n",
       "       '26-06-15', '17-06-15', '15-05-15', '04-09-15', '30-04-15',\n",
       "       '15-06-15', '17-04-15', '04-01-15', '19-04-15', '04-12-15',\n",
       "       '23-04-15', '05-01-15', '05-05-15', '05-08-15', '16-05-15',\n",
       "       '22-05-15', '23-05-15', '25-05-15', '29-05-15', '30-05-15',\n",
       "       '06-03-15', '06-04-15', '06-10-15', '04-07-15', '06-11-15',\n",
       "       '27-04-15', '25-04-15', '18-05-15', '06-06-15', '04-10-15',\n",
       "       '31-05-15', '05-10-15', '21-04-15', '04-03-15', '05-04-15',\n",
       "       '13-04-15', '06-09-15', '04-02-15', '05-11-15', '20-05-15',\n",
       "       '26-04-15', '17-05-15', '21-06-15', '14-06-15', '04-06-15',\n",
       "       '20-04-15', '04-05-15', '05-09-15', '04-04-15', '14-05-15',\n",
       "       '05-03-15'], dtype=object)"
      ]
     },
     "execution_count": 3,
     "metadata": {},
     "output_type": "execute_result"
    }
   ],
   "source": [
    "data.shape\n",
    "data['Date'].unique()"
   ]
  },
  {
   "cell_type": "code",
   "execution_count": 4,
   "id": "happy-buddy",
   "metadata": {
    "scrolled": true
   },
   "outputs": [
    {
     "name": "stdout",
     "output_type": "stream",
     "text": [
      "<class 'pandas.core.frame.DataFrame'>\n",
      "RangeIndex: 2224 entries, 0 to 2223\n",
      "Data columns (total 11 columns):\n",
      " #   Column                       Non-Null Count  Dtype \n",
      "---  ------                       --------------  ----- \n",
      " 0   Ticket #                     2224 non-null   object\n",
      " 1   Customer Complaint           2224 non-null   object\n",
      " 2   Date                         2224 non-null   object\n",
      " 3   Date_month_year              2224 non-null   object\n",
      " 4   Time                         2224 non-null   object\n",
      " 5   Received Via                 2224 non-null   object\n",
      " 6   City                         2224 non-null   object\n",
      " 7   State                        2224 non-null   object\n",
      " 8   Zip code                     2224 non-null   int64 \n",
      " 9   Status                       2224 non-null   object\n",
      " 10  Filing on Behalf of Someone  2224 non-null   object\n",
      "dtypes: int64(1), object(10)\n",
      "memory usage: 191.2+ KB\n"
     ]
    }
   ],
   "source": [
    "data.info()"
   ]
  },
  {
   "cell_type": "markdown",
   "id": "declared-yemen",
   "metadata": {},
   "source": [
    "## Observations:\n",
    "><div class=\"alert alert-info\" role=\"alert\">\n",
    "><ul>\n",
    "><li> No null values</li>\n",
    "><li> Since there is no continuous numerical data, No question of outliers.</li>\n",
    "><li> Date and time are string type (object).</li>\n",
    "><li> We can put date and time together in one column, called 'Date_month_year'</li>\n",
    "><li> Create a columns for month and month_day for visualizing complaints better. </li>\n",
    "><li> Finally drop columns for Date and Time.</li>\n",
    "></ul>\n",
    "></div>"
   ]
  },
  {
   "cell_type": "markdown",
   "id": "convenient-signature",
   "metadata": {},
   "source": [
    "# 3. Data Preprocessing\n",
    "1. Convert Date_Time into datetime format.\n",
    "2. Create a new column Date_Time and delete Date and Time Columns."
   ]
  },
  {
   "cell_type": "code",
   "execution_count": 5,
   "id": "statistical-argentina",
   "metadata": {},
   "outputs": [
    {
     "data": {
      "text/plain": [
       "Ticket #                               object\n",
       "Customer Complaint                     object\n",
       "Date_month_year                datetime64[ns]\n",
       "Received Via                           object\n",
       "City                                   object\n",
       "State                                  object\n",
       "Zip code                                int64\n",
       "Status                                 object\n",
       "Filing on Behalf of Someone            object\n",
       "month                                   int64\n",
       "month_day                              object\n",
       "dtype: object"
      ]
     },
     "execution_count": 5,
     "metadata": {},
     "output_type": "execute_result"
    }
   ],
   "source": [
    "# Create a new col Date_Time \n",
    "data[\"Date_month_year\"] = pd.to_datetime(data[\"Date_month_year\"])\n",
    "data['month'] = data['Date_month_year'].dt.month\n",
    "data['month_day'] = data['Date_month_year'].dt.strftime('%m-%d')\n",
    "\n",
    "\n",
    "# Finally, drop the Date and Time Variables\n",
    "del data['Date']\n",
    "del data['Time']\n",
    "\n",
    "# Let's check data types now\n",
    "data.dtypes"
   ]
  },
  {
   "cell_type": "markdown",
   "id": "subjective-aviation",
   "metadata": {},
   "source": [
    "#  Trend chart for the number of complaints at monthly and daily granularity levels.\n",
    "## Complaints received Monthly Basis  "
   ]
  },
  {
   "cell_type": "code",
   "execution_count": 6,
   "id": "small-disco",
   "metadata": {},
   "outputs": [
    {
     "data": {
      "text/html": [
       "<style  type=\"text/css\" >\n",
       "#T_7c532_row0_col0{\n",
       "            background-color:  #67000d;\n",
       "            color:  #f1f1f1;\n",
       "        }#T_7c532_row1_col0{\n",
       "            background-color:  #fca082;\n",
       "            color:  #000000;\n",
       "        }#T_7c532_row2_col0{\n",
       "            background-color:  #fcb398;\n",
       "            color:  #000000;\n",
       "        }#T_7c532_row3_col0{\n",
       "            background-color:  #fff0e9;\n",
       "            color:  #000000;\n",
       "        }#T_7c532_row4_col0{\n",
       "            background-color:  #fff1ea;\n",
       "            color:  #000000;\n",
       "        }#T_7c532_row5_col0{\n",
       "            background-color:  #fff2eb;\n",
       "            color:  #000000;\n",
       "        }#T_7c532_row6_col0,#T_7c532_row7_col0{\n",
       "            background-color:  #fff2ec;\n",
       "            color:  #000000;\n",
       "        }#T_7c532_row8_col0{\n",
       "            background-color:  #fff3ed;\n",
       "            color:  #000000;\n",
       "        }#T_7c532_row9_col0{\n",
       "            background-color:  #fff4ee;\n",
       "            color:  #000000;\n",
       "        }#T_7c532_row10_col0{\n",
       "            background-color:  #fff4ef;\n",
       "            color:  #000000;\n",
       "        }#T_7c532_row11_col0{\n",
       "            background-color:  #fff5f0;\n",
       "            color:  #000000;\n",
       "        }</style><table id=\"T_7c532_\" ><thead>    <tr>        <th class=\"blank level0\" ></th>        <th class=\"col_heading level0 col0\" >Customer Complaint</th>    </tr>    <tr>        <th class=\"index_name level0\" >month</th>        <th class=\"blank\" ></th>    </tr></thead><tbody>\n",
       "                <tr>\n",
       "                        <th id=\"T_7c532_level0_row0\" class=\"row_heading level0 row0\" >6</th>\n",
       "                        <td id=\"T_7c532_row0_col0\" class=\"data row0 col0\" >1046</td>\n",
       "            </tr>\n",
       "            <tr>\n",
       "                        <th id=\"T_7c532_level0_row1\" class=\"row_heading level0 row1\" >4</th>\n",
       "                        <td id=\"T_7c532_row1_col0\" class=\"data row1 col0\" >375</td>\n",
       "            </tr>\n",
       "            <tr>\n",
       "                        <th id=\"T_7c532_level0_row2\" class=\"row_heading level0 row2\" >5</th>\n",
       "                        <td id=\"T_7c532_row2_col0\" class=\"data row2 col0\" >317</td>\n",
       "            </tr>\n",
       "            <tr>\n",
       "                        <th id=\"T_7c532_level0_row3\" class=\"row_heading level0 row3\" >8</th>\n",
       "                        <td id=\"T_7c532_row3_col0\" class=\"data row3 col0\" >67</td>\n",
       "            </tr>\n",
       "            <tr>\n",
       "                        <th id=\"T_7c532_level0_row4\" class=\"row_heading level0 row4\" >12</th>\n",
       "                        <td id=\"T_7c532_row4_col0\" class=\"data row4 col0\" >65</td>\n",
       "            </tr>\n",
       "            <tr>\n",
       "                        <th id=\"T_7c532_level0_row5\" class=\"row_heading level0 row5\" >2</th>\n",
       "                        <td id=\"T_7c532_row5_col0\" class=\"data row5 col0\" >59</td>\n",
       "            </tr>\n",
       "            <tr>\n",
       "                        <th id=\"T_7c532_level0_row6\" class=\"row_heading level0 row6\" >1</th>\n",
       "                        <td id=\"T_7c532_row6_col0\" class=\"data row6 col0\" >55</td>\n",
       "            </tr>\n",
       "            <tr>\n",
       "                        <th id=\"T_7c532_level0_row7\" class=\"row_heading level0 row7\" >9</th>\n",
       "                        <td id=\"T_7c532_row7_col0\" class=\"data row7 col0\" >55</td>\n",
       "            </tr>\n",
       "            <tr>\n",
       "                        <th id=\"T_7c532_level0_row8\" class=\"row_heading level0 row8\" >10</th>\n",
       "                        <td id=\"T_7c532_row8_col0\" class=\"data row8 col0\" >53</td>\n",
       "            </tr>\n",
       "            <tr>\n",
       "                        <th id=\"T_7c532_level0_row9\" class=\"row_heading level0 row9\" >7</th>\n",
       "                        <td id=\"T_7c532_row9_col0\" class=\"data row9 col0\" >49</td>\n",
       "            </tr>\n",
       "            <tr>\n",
       "                        <th id=\"T_7c532_level0_row10\" class=\"row_heading level0 row10\" >3</th>\n",
       "                        <td id=\"T_7c532_row10_col0\" class=\"data row10 col0\" >45</td>\n",
       "            </tr>\n",
       "            <tr>\n",
       "                        <th id=\"T_7c532_level0_row11\" class=\"row_heading level0 row11\" >11</th>\n",
       "                        <td id=\"T_7c532_row11_col0\" class=\"data row11 col0\" >38</td>\n",
       "            </tr>\n",
       "    </tbody></table>"
      ],
      "text/plain": [
       "<pandas.io.formats.style.Styler at 0x21448e20cd0>"
      ]
     },
     "metadata": {},
     "output_type": "display_data"
    },
    {
     "data": {
      "image/png": "[encoded data removed]",
      "text/plain": [
       "<Figure size 1152x576 with 1 Axes>"
      ]
     },
     "metadata": {},
     "output_type": "display_data"
    }
   ],
   "source": [
    "display(data[['Customer Complaint', 'month']].groupby(['month']).agg('count').sort_values(by = 'Customer Complaint', ascending = False).style.background_gradient(cmap =  'Reds'))\n",
    "\n",
    "# Complaints received Monthly Basis\n",
    "daily_complaints =data[['Customer Complaint', 'month']].groupby('month').count().reset_index()\n",
    "\n",
    "sns.lineplot(daily_complaints['month'], daily_complaints['Customer Complaint'])\n",
    "plt.title(\"Time Series for Complaints on Monthly basis\", fontsize = 20)\n",
    "plt.xlabel(\"Months\")\n",
    "plt.show()"
   ]
  },
  {
   "cell_type": "markdown",
   "id": "speaking-celebration",
   "metadata": {},
   "source": [
    "## Observations:\n",
    "><div class=\"alert alert-info\" role=\"alert\">\n",
    "><ul>\n",
    "><li> 6th month ('June') observed the heighest complaints from the customers. 1046 being maximum.</li>\n",
    "><li> 11th month ('November') observed lowest complaints from the customers. 38 being the minimum.</li>\n",
    "><li> Complaints started increasing from 3rd month ('March'). Being 35 complaints in march and 375 complaints in April.</li>\n",
    "><li> From 7th month ('July') we observe sudden drop on the complaints. From 1046 in June and 49 in July.</li>\n",
    "></ul>\n",
    "></div>"
   ]
  },
  {
   "cell_type": "markdown",
   "id": "indoor-calibration",
   "metadata": {},
   "source": [
    "# Complaints received Daily Basis"
   ]
  },
  {
   "cell_type": "code",
   "execution_count": 7,
   "id": "isolated-brisbane",
   "metadata": {},
   "outputs": [
    {
     "name": "stdout",
     "output_type": "stream",
     "text": [
      "20 Days with most Complaints\n"
     ]
    },
    {
     "data": {
      "text/html": [
       "<style  type=\"text/css\" >\n",
       "#T_cf76a_row0_col1{\n",
       "            background-color:  #67000d;\n",
       "            color:  #f1f1f1;\n",
       "        }#T_cf76a_row1_col1{\n",
       "            background-color:  #ab1016;\n",
       "            color:  #f1f1f1;\n",
       "        }#T_cf76a_row2_col1{\n",
       "            background-color:  #fc9373;\n",
       "            color:  #000000;\n",
       "        }#T_cf76a_row3_col1{\n",
       "            background-color:  #fedaca;\n",
       "            color:  #000000;\n",
       "        }#T_cf76a_row4_col1{\n",
       "            background-color:  #fedecf;\n",
       "            color:  #000000;\n",
       "        }#T_cf76a_row5_col1{\n",
       "            background-color:  #fee0d2;\n",
       "            color:  #000000;\n",
       "        }#T_cf76a_row6_col1{\n",
       "            background-color:  #fee4d8;\n",
       "            color:  #000000;\n",
       "        }#T_cf76a_row7_col1{\n",
       "            background-color:  #fee7dc;\n",
       "            color:  #000000;\n",
       "        }#T_cf76a_row8_col1{\n",
       "            background-color:  #feeae1;\n",
       "            color:  #000000;\n",
       "        }#T_cf76a_row9_col1{\n",
       "            background-color:  #ffefe8;\n",
       "            color:  #000000;\n",
       "        }#T_cf76a_row10_col1,#T_cf76a_row11_col1{\n",
       "            background-color:  #fff1ea;\n",
       "            color:  #000000;\n",
       "        }#T_cf76a_row12_col1{\n",
       "            background-color:  #fff2ec;\n",
       "            color:  #000000;\n",
       "        }#T_cf76a_row13_col1,#T_cf76a_row14_col1,#T_cf76a_row15_col1{\n",
       "            background-color:  #fff4ee;\n",
       "            color:  #000000;\n",
       "        }#T_cf76a_row16_col1{\n",
       "            background-color:  #fff4ef;\n",
       "            color:  #000000;\n",
       "        }#T_cf76a_row17_col1,#T_cf76a_row18_col1,#T_cf76a_row19_col1{\n",
       "            background-color:  #fff5f0;\n",
       "            color:  #000000;\n",
       "        }</style><table id=\"T_cf76a_\" ><thead>    <tr>        <th class=\"blank level0\" ></th>        <th class=\"col_heading level0 col0\" >month_day</th>        <th class=\"col_heading level0 col1\" >Customer Complaint</th>    </tr></thead><tbody>\n",
       "                <tr>\n",
       "                        <th id=\"T_cf76a_level0_row0\" class=\"row_heading level0 row0\" >66</th>\n",
       "                        <td id=\"T_cf76a_row0_col0\" class=\"data row0 col0\" >06-24</td>\n",
       "                        <td id=\"T_cf76a_row0_col1\" class=\"data row0 col1\" >218</td>\n",
       "            </tr>\n",
       "            <tr>\n",
       "                        <th id=\"T_cf76a_level0_row1\" class=\"row_heading level0 row1\" >65</th>\n",
       "                        <td id=\"T_cf76a_row1_col0\" class=\"data row1 col0\" >06-23</td>\n",
       "                        <td id=\"T_cf76a_row1_col1\" class=\"data row1 col1\" >190</td>\n",
       "            </tr>\n",
       "            <tr>\n",
       "                        <th id=\"T_cf76a_level0_row2\" class=\"row_heading level0 row2\" >67</th>\n",
       "                        <td id=\"T_cf76a_row2_col0\" class=\"data row2 col0\" >06-25</td>\n",
       "                        <td id=\"T_cf76a_row2_col1\" class=\"data row2 col1\" >98</td>\n",
       "            </tr>\n",
       "            <tr>\n",
       "                        <th id=\"T_cf76a_level0_row3\" class=\"row_heading level0 row3\" >68</th>\n",
       "                        <td id=\"T_cf76a_row3_col0\" class=\"data row3 col0\" >06-26</td>\n",
       "                        <td id=\"T_cf76a_row3_col1\" class=\"data row3 col1\" >55</td>\n",
       "            </tr>\n",
       "            <tr>\n",
       "                        <th id=\"T_cf76a_level0_row4\" class=\"row_heading level0 row4\" >72</th>\n",
       "                        <td id=\"T_cf76a_row4_col0\" class=\"data row4 col0\" >06-30</td>\n",
       "                        <td id=\"T_cf76a_row4_col1\" class=\"data row4 col1\" >53</td>\n",
       "            </tr>\n",
       "            <tr>\n",
       "                        <th id=\"T_cf76a_level0_row5\" class=\"row_heading level0 row5\" >71</th>\n",
       "                        <td id=\"T_cf76a_row5_col0\" class=\"data row5 col0\" >06-29</td>\n",
       "                        <td id=\"T_cf76a_row5_col1\" class=\"data row5 col1\" >51</td>\n",
       "            </tr>\n",
       "            <tr>\n",
       "                        <th id=\"T_cf76a_level0_row6\" class=\"row_heading level0 row6\" >60</th>\n",
       "                        <td id=\"T_cf76a_row6_col0\" class=\"data row6 col0\" >06-18</td>\n",
       "                        <td id=\"T_cf76a_row6_col1\" class=\"data row6 col1\" >47</td>\n",
       "            </tr>\n",
       "            <tr>\n",
       "                        <th id=\"T_cf76a_level0_row7\" class=\"row_heading level0 row7\" >90</th>\n",
       "                        <td id=\"T_cf76a_row7_col0\" class=\"data row7 col0\" >12-06</td>\n",
       "                        <td id=\"T_cf76a_row7_col1\" class=\"data row7 col1\" >43</td>\n",
       "            </tr>\n",
       "            <tr>\n",
       "                        <th id=\"T_cf76a_level0_row8\" class=\"row_heading level0 row8\" >69</th>\n",
       "                        <td id=\"T_cf76a_row8_col0\" class=\"data row8 col0\" >06-27</td>\n",
       "                        <td id=\"T_cf76a_row8_col1\" class=\"data row8 col1\" >39</td>\n",
       "            </tr>\n",
       "            <tr>\n",
       "                        <th id=\"T_cf76a_level0_row9\" class=\"row_heading level0 row9\" >57</th>\n",
       "                        <td id=\"T_cf76a_row9_col0\" class=\"data row9 col0\" >06-15</td>\n",
       "                        <td id=\"T_cf76a_row9_col1\" class=\"data row9 col1\" >34</td>\n",
       "            </tr>\n",
       "            <tr>\n",
       "                        <th id=\"T_cf76a_level0_row10\" class=\"row_heading level0 row10\" >59</th>\n",
       "                        <td id=\"T_cf76a_row10_col0\" class=\"data row10 col0\" >06-17</td>\n",
       "                        <td id=\"T_cf76a_row10_col1\" class=\"data row10 col1\" >32</td>\n",
       "            </tr>\n",
       "            <tr>\n",
       "                        <th id=\"T_cf76a_level0_row11\" class=\"row_heading level0 row11\" >55</th>\n",
       "                        <td id=\"T_cf76a_row11_col0\" class=\"data row11 col0\" >06-13</td>\n",
       "                        <td id=\"T_cf76a_row11_col1\" class=\"data row11 col1\" >32</td>\n",
       "            </tr>\n",
       "            <tr>\n",
       "                        <th id=\"T_cf76a_level0_row12\" class=\"row_heading level0 row12\" >64</th>\n",
       "                        <td id=\"T_cf76a_row12_col0\" class=\"data row12 col0\" >06-22</td>\n",
       "                        <td id=\"T_cf76a_row12_col1\" class=\"data row12 col1\" >30</td>\n",
       "            </tr>\n",
       "            <tr>\n",
       "                        <th id=\"T_cf76a_level0_row13\" class=\"row_heading level0 row13\" >61</th>\n",
       "                        <td id=\"T_cf76a_row13_col0\" class=\"data row13 col0\" >06-19</td>\n",
       "                        <td id=\"T_cf76a_row13_col1\" class=\"data row13 col1\" >29</td>\n",
       "            </tr>\n",
       "            <tr>\n",
       "                        <th id=\"T_cf76a_level0_row14\" class=\"row_heading level0 row14\" >58</th>\n",
       "                        <td id=\"T_cf76a_row14_col0\" class=\"data row14 col0\" >06-16</td>\n",
       "                        <td id=\"T_cf76a_row14_col1\" class=\"data row14 col1\" >29</td>\n",
       "            </tr>\n",
       "            <tr>\n",
       "                        <th id=\"T_cf76a_level0_row15\" class=\"row_heading level0 row15\" >32</th>\n",
       "                        <td id=\"T_cf76a_row15_col0\" class=\"data row15 col0\" >05-06</td>\n",
       "                        <td id=\"T_cf76a_row15_col1\" class=\"data row15 col1\" >29</td>\n",
       "            </tr>\n",
       "            <tr>\n",
       "                        <th id=\"T_cf76a_level0_row16\" class=\"row_heading level0 row16\" >76</th>\n",
       "                        <td id=\"T_cf76a_row16_col0\" class=\"data row16 col0\" >08-04</td>\n",
       "                        <td id=\"T_cf76a_row16_col1\" class=\"data row16 col1\" >28</td>\n",
       "            </tr>\n",
       "            <tr>\n",
       "                        <th id=\"T_cf76a_level0_row17\" class=\"row_heading level0 row17\" >46</th>\n",
       "                        <td id=\"T_cf76a_row17_col0\" class=\"data row17 col0\" >05-26</td>\n",
       "                        <td id=\"T_cf76a_row17_col1\" class=\"data row17 col1\" >27</td>\n",
       "            </tr>\n",
       "            <tr>\n",
       "                        <th id=\"T_cf76a_level0_row18\" class=\"row_heading level0 row18\" >3</th>\n",
       "                        <td id=\"T_cf76a_row18_col0\" class=\"data row18 col0\" >02-04</td>\n",
       "                        <td id=\"T_cf76a_row18_col1\" class=\"data row18 col1\" >27</td>\n",
       "            </tr>\n",
       "            <tr>\n",
       "                        <th id=\"T_cf76a_level0_row19\" class=\"row_heading level0 row19\" >70</th>\n",
       "                        <td id=\"T_cf76a_row19_col0\" class=\"data row19 col0\" >06-28</td>\n",
       "                        <td id=\"T_cf76a_row19_col1\" class=\"data row19 col1\" >27</td>\n",
       "            </tr>\n",
       "    </tbody></table>"
      ],
      "text/plain": [
       "<pandas.io.formats.style.Styler at 0x21448e14940>"
      ]
     },
     "execution_count": 7,
     "metadata": {},
     "output_type": "execute_result"
    }
   ],
   "source": [
    "print(\"20 Days with most Complaints\")\n",
    "data.groupby('month_day').count()[['Customer Complaint']].reset_index().sort_values(by = 'Customer Complaint',ascending = False).head(20).style.background_gradient('Reds')"
   ]
  },
  {
   "cell_type": "markdown",
   "id": "electoral-british",
   "metadata": {},
   "source": [
    "## Observations:\n",
    "><div class=\"alert alert-info\" role=\"alert\">\n",
    "><ul>\n",
    "><li> Above table shows 20 days with most complaints.</li>\n",
    "><li> We could see that 23 June-25 June observed the maximum complaints. Maximum count being 218 on 24th June.</li>\n",
    "></ul>\n",
    "></div>"
   ]
  },
  {
   "cell_type": "code",
   "execution_count": 8,
   "id": "finnish-showcase",
   "metadata": {},
   "outputs": [
    {
     "data": {
      "image/png": "[encoded data removed]",
      "text/plain": [
       "<Figure size 1152x576 with 1 Axes>"
      ]
     },
     "metadata": {},
     "output_type": "display_data"
    }
   ],
   "source": [
    "\n",
    "data[\"Date_month_year\"].value_counts().plot(kind = 'line');\n",
    "plt.title(\"Time Series for Complaints on Daily basis\", fontsize = 20)\n",
    "plt.xticks(fontsize = 10, rotation = 45)\n",
    "plt.xlabel(\"Distribution over Days\")\n",
    "plt.ylabel(\"Complaints\")\n",
    "plt.show();\n"
   ]
  },
  {
   "cell_type": "markdown",
   "id": "unlimited-dutch",
   "metadata": {},
   "source": [
    "## Observations:\n",
    "><div class=\"alert alert-info\" role=\"alert\">\n",
    "><ul>\n",
    "><li> Above linechart shows the complaints received over days.</li>\n",
    "><li> We could see the upward trends of complaints around End of June and that actually proves the observation we saw on above visualizations using tables and line charts. </li>\n",
    "></ul>\n",
    "></div>\n",
    "\n",
    "\n",
    "## To see the trend as per each day of the year refer to the chart below."
   ]
  },
  {
   "cell_type": "code",
   "execution_count": 9,
   "id": "moral-confidentiality",
   "metadata": {},
   "outputs": [
    {
     "data": {
      "image/png": "[encoded data removed]",
      "text/plain": [
       "<Figure size 1152x576 with 1 Axes>"
      ]
     },
     "metadata": {},
     "output_type": "display_data"
    }
   ],
   "source": [
    "daily_complaints =data[['Customer Complaint','month_day']].groupby('month_day').count().reset_index()\n",
    "sns.lineplot(daily_complaints['month_day'], daily_complaints['Customer Complaint'])\n",
    "plt.title(\"Time Series for Complaints on Daily basis\", fontsize = 20)\n",
    "plt.xticks(fontsize = 10, rotation = 90)\n",
    "plt.xlabel(\"Days\")\n",
    "plt.ylabel(\"Complaints\")\n",
    "plt.show();"
   ]
  },
  {
   "cell_type": "markdown",
   "id": "consistent-joseph",
   "metadata": {},
   "source": [
    "## Observations:\n",
    "><div class=\"alert alert-success\" role=\"alert\">\n",
    "><ul>\n",
    "><li>1. Above Linechart shows the trend of complaints over days displaying each day in format mont_day.</li>\n",
    "><li>2. As expected from the trend chart of month, days in 6th month ('June') observe the maximum sailes.</li>\n",
    "><li>3. We can further observe that complaints were maximum during 23 June to 25 June. 215 complaints being maximum</li>\n",
    "><li>4. Complaints were minimum on 4th Nov. Exact count being 5.</li>\n",
    "></ul>\n",
    "></div>"
   ]
  },
  {
   "cell_type": "markdown",
   "id": "identified-electronics",
   "metadata": {},
   "source": [
    "# Table with the frequency of complaint types. \n",
    "\n",
    "## Which complaint types are maximum i.e., around internet, network issues, or across any other domains.\n",
    "\n",
    "### Pseudo code for clearly presenting Complaint types:\n",
    "\n",
    "\n",
    "\n",
    "\n",
    "\n",
    "\n",
    "><div class=\"alert alert-info\" role=\"alert\">\n",
    "><ul>\n",
    "><li> Here we can preprocess the {Customer Complaint} column and store the results by making another column in our original data set 'Preprocessed_complaints'. </li>\n",
    "><li> Creating a function which takes in complaint and returns preprocessed complaint, finally applying the function to our own dataset could be a way out.</li>\n",
    "><li> Next we need different complaint_types (decided using 'Preprocessed_complaints' column) using which we should be able to divide our complaints into different types.</li>\n",
    "><li> Different types of complaints we could think practically and then by looking at random complaints. We can use complaint types as 'Internet Issues', 'Customer_Services Issues','Network/Speed Issues', 'Comcast Issues', 'Others'. </li>\n",
    "><li> Finally we create a function that uses words from 'Preprocessed_complaints' column and decides that particular complaint belongs to which of the 5 Complaint Types mentioned above. </li>\n",
    "></ul>\n",
    "></div>"
   ]
  },
  {
   "cell_type": "code",
   "execution_count": 10,
   "id": "entertaining-clarity",
   "metadata": {
    "scrolled": false
   },
   "outputs": [
    {
     "data": {
      "text/plain": [
       "Comcast              83\n",
       "Comcast Internet     18\n",
       "Comcast Data Cap     17\n",
       "comcast              13\n",
       "Data Caps            11\n",
       "Comcast Data Caps    11\n",
       "Comcast Billing      11\n",
       "Name: Customer Complaint, dtype: int64"
      ]
     },
     "execution_count": 10,
     "metadata": {},
     "output_type": "execute_result"
    }
   ],
   "source": [
    "#checking the counts of the Complaint types\n",
    "data['Customer Complaint'].value_counts().head(7)"
   ]
  },
  {
   "cell_type": "code",
   "execution_count": 11,
   "id": "confused-google",
   "metadata": {
    "scrolled": true
   },
   "outputs": [
    {
     "name": "stdout",
     "output_type": "stream",
     "text": [
      "comcast will not cancel my service\n",
      "comcast does not disclose the internet speed i am paying for anywhere on my bill or online\n"
     ]
    }
   ],
   "source": [
    "# Creating a function substitute the words such as won't to will not etc...\n",
    "def decontracted(phrase):\n",
    "    \"\"\"input: some sentence - not preprocessed sentance basically.\n",
    "       Output: processes the words such as \"won't\" to 'will not' etc. \n",
    "    \"\"\"\n",
    "    phrase = re.sub(r\"won't\", \"will not\", phrase)\n",
    "    phrase = re.sub(r\"can\\'t\", \"can not\", phrase)\n",
    "    phrase = re.sub(r\"wouldn't\", \"would not\", phrase)\n",
    "    phrase = re.sub(r\"did't\", \"did not\", phrase)\n",
    "    phrase = re.sub(r\"n\\'t\", \" not\", phrase)\n",
    "    phrase = re.sub(r\"\\'s\", \"\", phrase)\n",
    "    phrase = re.sub(r\"\\'t\", \" not\", phrase)\n",
    "    phrase = re.sub(r\"\\'ve\", \" have\", phrase)\n",
    "    phrase = re.sub(r\"\\'m\", \" am\", phrase)\n",
    "    return phrase\n",
    "\n",
    "# Let's try this function on some complaint\n",
    "print(decontracted(\"comcast won't cancel my service\"))\n",
    "print(decontracted(\"comcast does not disclose the internet speed i'm paying for anywhere on my bill or online\"))"
   ]
  },
  {
   "cell_type": "code",
   "execution_count": 12,
   "id": "cleared-minutes",
   "metadata": {},
   "outputs": [
    {
     "data": {
      "text/html": [
       "<div>\n",
       "<style scoped>\n",
       "    .dataframe tbody tr th:only-of-type {\n",
       "        vertical-align: middle;\n",
       "    }\n",
       "\n",
       "    .dataframe tbody tr th {\n",
       "        vertical-align: top;\n",
       "    }\n",
       "\n",
       "    .dataframe thead th {\n",
       "        text-align: right;\n",
       "    }\n",
       "</style>\n",
       "<table border=\"1\" class=\"dataframe\">\n",
       "  <thead>\n",
       "    <tr style=\"text-align: right;\">\n",
       "      <th></th>\n",
       "      <th>Customer Complaint</th>\n",
       "      <th>Preprocessed_complaints</th>\n",
       "    </tr>\n",
       "  </thead>\n",
       "  <tbody>\n",
       "    <tr>\n",
       "      <th>0</th>\n",
       "      <td>Comcast Cable Internet Speeds</td>\n",
       "      <td>comcast cable internet speeds</td>\n",
       "    </tr>\n",
       "    <tr>\n",
       "      <th>1</th>\n",
       "      <td>Payment disappear - service got disconnected</td>\n",
       "      <td>payment disappear service got disconnected</td>\n",
       "    </tr>\n",
       "    <tr>\n",
       "      <th>2</th>\n",
       "      <td>Speed and Service</td>\n",
       "      <td>speed service</td>\n",
       "    </tr>\n",
       "    <tr>\n",
       "      <th>3</th>\n",
       "      <td>Comcast Imposed a New Usage Cap of 300GB that ...</td>\n",
       "      <td>comcast imposed new usage cap gb punishes stre...</td>\n",
       "    </tr>\n",
       "    <tr>\n",
       "      <th>4</th>\n",
       "      <td>Comcast not working and no service to boot</td>\n",
       "      <td>comcast working service boot</td>\n",
       "    </tr>\n",
       "  </tbody>\n",
       "</table>\n",
       "</div>"
      ],
      "text/plain": [
       "                                  Customer Complaint  \\\n",
       "0                      Comcast Cable Internet Speeds   \n",
       "1       Payment disappear - service got disconnected   \n",
       "2                                  Speed and Service   \n",
       "3  Comcast Imposed a New Usage Cap of 300GB that ...   \n",
       "4         Comcast not working and no service to boot   \n",
       "\n",
       "                             Preprocessed_complaints  \n",
       "0                      comcast cable internet speeds  \n",
       "1         payment disappear service got disconnected  \n",
       "2                                      speed service  \n",
       "3  comcast imposed new usage cap gb punishes stre...  \n",
       "4                       comcast working service boot  "
      ]
     },
     "execution_count": 12,
     "metadata": {},
     "output_type": "execute_result"
    }
   ],
   "source": [
    "def preprocess_complaints(comp):\n",
    "    \"\"\"input: Takes in complaints (Sting type sentences)\n",
    "       output: Returns preprocessed version of complaints these steps consists of lower case, \n",
    "       decontracted(function mentioned above), remove speacial characters\n",
    "    \"\"\"\n",
    "    comp = bs(comp, 'lxml').get_text()  # using  beatifulSoup4 to extract complaints in one variables\n",
    "    comp = comp.lower() #lower case the complaint\n",
    "    comp = decontracted(comp) # using custom function to replace words like won't to will not etc\n",
    "    comp = re.sub('[^A-Za-z]+', ' ', comp) #remove any special character.\n",
    "    comp = \" \".join(e for e in comp.split() if e not in set(stopwords.words('english'))) #joining everything what we did till now\n",
    "    return comp\n",
    "\n",
    "# applying the fucntion preprocess_complaints to data['Customer Complaint'] (orginal dataset) \n",
    "# and assinging it to a new column in the original dataset:\n",
    "data['Preprocessed_complaints']=data['Customer Complaint'].apply(lambda x : preprocess_complaints(x))\n",
    "\n",
    "# Let's take a look into the Results of what we did till now:\n",
    "data.head()[['Customer Complaint', 'Preprocessed_complaints']]"
   ]
  },
  {
   "cell_type": "code",
   "execution_count": 25,
   "id": "lonely-credits",
   "metadata": {},
   "outputs": [
    {
     "data": {
      "text/html": [
       "<div>\n",
       "<style scoped>\n",
       "    .dataframe tbody tr th:only-of-type {\n",
       "        vertical-align: middle;\n",
       "    }\n",
       "\n",
       "    .dataframe tbody tr th {\n",
       "        vertical-align: top;\n",
       "    }\n",
       "\n",
       "    .dataframe thead th {\n",
       "        text-align: right;\n",
       "    }\n",
       "</style>\n",
       "<table border=\"1\" class=\"dataframe\">\n",
       "  <thead>\n",
       "    <tr style=\"text-align: right;\">\n",
       "      <th></th>\n",
       "      <th>Customer Complaint</th>\n",
       "      <th>Preprocessed_complaints</th>\n",
       "      <th>Complaint_Type</th>\n",
       "    </tr>\n",
       "  </thead>\n",
       "  <tbody>\n",
       "    <tr>\n",
       "      <th>0</th>\n",
       "      <td>Comcast Cable Internet Speeds</td>\n",
       "      <td>comcast cable internet speeds</td>\n",
       "      <td>Internet Issues</td>\n",
       "    </tr>\n",
       "    <tr>\n",
       "      <th>1</th>\n",
       "      <td>Payment disappear - service got disconnected</td>\n",
       "      <td>payment disappear service got disconnected</td>\n",
       "      <td>Customer_Services Issues</td>\n",
       "    </tr>\n",
       "    <tr>\n",
       "      <th>2</th>\n",
       "      <td>Speed and Service</td>\n",
       "      <td>speed service</td>\n",
       "      <td>Network/Speed Issues</td>\n",
       "    </tr>\n",
       "    <tr>\n",
       "      <th>3</th>\n",
       "      <td>Comcast Imposed a New Usage Cap of 300GB that ...</td>\n",
       "      <td>comcast imposed new usage cap gb punishes stre...</td>\n",
       "      <td>Internet Issues</td>\n",
       "    </tr>\n",
       "    <tr>\n",
       "      <th>4</th>\n",
       "      <td>Comcast not working and no service to boot</td>\n",
       "      <td>comcast working service boot</td>\n",
       "      <td>Customer_Services Issues</td>\n",
       "    </tr>\n",
       "  </tbody>\n",
       "</table>\n",
       "</div>"
      ],
      "text/plain": [
       "                                  Customer Complaint  \\\n",
       "0                      Comcast Cable Internet Speeds   \n",
       "1       Payment disappear - service got disconnected   \n",
       "2                                  Speed and Service   \n",
       "3  Comcast Imposed a New Usage Cap of 300GB that ...   \n",
       "4         Comcast not working and no service to boot   \n",
       "\n",
       "                             Preprocessed_complaints            Complaint_Type  \n",
       "0                      comcast cable internet speeds           Internet Issues  \n",
       "1         payment disappear service got disconnected  Customer_Services Issues  \n",
       "2                                      speed service      Network/Speed Issues  \n",
       "3  comcast imposed new usage cap gb punishes stre...           Internet Issues  \n",
       "4                       comcast working service boot  Customer_Services Issues  "
      ]
     },
     "metadata": {},
     "output_type": "display_data"
    },
    {
     "data": {
      "text/html": [
       "<style  type=\"text/css\" >\n",
       "#T_ec123_row0_col1{\n",
       "            background-color:  #000000;\n",
       "            color:  #f1f1f1;\n",
       "        }#T_ec123_row1_col1{\n",
       "            background-color:  #442b1b;\n",
       "            color:  #f1f1f1;\n",
       "        }#T_ec123_row2_col1{\n",
       "            background-color:  #774b30;\n",
       "            color:  #f1f1f1;\n",
       "        }#T_ec123_row3_col1{\n",
       "            background-color:  #dd8c59;\n",
       "            color:  #000000;\n",
       "        }#T_ec123_row4_col1{\n",
       "            background-color:  #ffc77f;\n",
       "            color:  #000000;\n",
       "        }</style><table id=\"T_ec123_\" ><thead>    <tr>        <th class=\"blank level0\" ></th>        <th class=\"col_heading level0 col0\" >Complaint_Type</th>        <th class=\"col_heading level0 col1\" >Count</th>    </tr></thead><tbody>\n",
       "                <tr>\n",
       "                        <th id=\"T_ec123_level0_row0\" class=\"row_heading level0 row0\" >2</th>\n",
       "                        <td id=\"T_ec123_row0_col0\" class=\"data row0 col0\" >Internet Issues</td>\n",
       "                        <td id=\"T_ec123_row0_col1\" class=\"data row0 col1\" >750</td>\n",
       "            </tr>\n",
       "            <tr>\n",
       "                        <th id=\"T_ec123_level0_row1\" class=\"row_heading level0 row1\" >1</th>\n",
       "                        <td id=\"T_ec123_row1_col0\" class=\"data row1 col0\" >Customer_Services Issues</td>\n",
       "                        <td id=\"T_ec123_row1_col1\" class=\"data row1 col1\" >605</td>\n",
       "            </tr>\n",
       "            <tr>\n",
       "                        <th id=\"T_ec123_level0_row2\" class=\"row_heading level0 row2\" >0</th>\n",
       "                        <td id=\"T_ec123_row2_col0\" class=\"data row2 col0\" >Comcast Issues</td>\n",
       "                        <td id=\"T_ec123_row2_col1\" class=\"data row2 col1\" >500</td>\n",
       "            </tr>\n",
       "            <tr>\n",
       "                        <th id=\"T_ec123_level0_row3\" class=\"row_heading level0 row3\" >4</th>\n",
       "                        <td id=\"T_ec123_row3_col0\" class=\"data row3 col0\" >Others</td>\n",
       "                        <td id=\"T_ec123_row3_col1\" class=\"data row3 col1\" >284</td>\n",
       "            </tr>\n",
       "            <tr>\n",
       "                        <th id=\"T_ec123_level0_row4\" class=\"row_heading level0 row4\" >3</th>\n",
       "                        <td id=\"T_ec123_row4_col0\" class=\"data row4 col0\" >Network/Speed Issues</td>\n",
       "                        <td id=\"T_ec123_row4_col1\" class=\"data row4 col1\" >85</td>\n",
       "            </tr>\n",
       "    </tbody></table>"
      ],
      "text/plain": [
       "<pandas.io.formats.style.Styler at 0x2145f839100>"
      ]
     },
     "metadata": {},
     "output_type": "display_data"
    },
    {
     "data": {
      "image/png": "[encoded data removed]",
      "text/plain": [
       "<Figure size 1152x576 with 1 Axes>"
      ]
     },
     "metadata": {},
     "output_type": "display_data"
    }
   ],
   "source": [
    "# Creating a function for assigning complaint_types to different complaints raised by the users.\n",
    "def complaint_type(row):\n",
    "    if (\"internet\" in row['Preprocessed_complaints']) or (\"data\" in row['Preprocessed_complaints']) or (\"cap\" in row['Preprocessed_complaints']):\n",
    "            return 'Internet Issues'\n",
    "    elif(\"network\" in row['Preprocessed_complaints']) or (\"speed\" in row['Preprocessed_complaints']):\n",
    "            return \"Network/Speed Issues\"\n",
    "    elif(\"service\" in row['Preprocessed_complaints']) or (\"bill\" in row['Preprocessed_complaints']) or (\"customer\" in row['Preprocessed_complaints']):\n",
    "            return \"Customer_Services Issues\"\n",
    "    elif(\"comcast\" in row['Preprocessed_complaints']):\n",
    "            return \"Comcast Issues\"\n",
    "    else:\n",
    "            return \"Others\"\n",
    "        \n",
    "# applying the function complaint_type() to our original dataset and assigning the results to a new column in original dataset  \n",
    "data['Complaint_Type'] = data.apply(lambda row: complaint_type(row), axis=1).to_frame()\n",
    "\n",
    "# Let's check what we did till now\n",
    "display(data.head()[['Customer Complaint', 'Preprocessed_complaints', 'Complaint_Type']])\n",
    "\n",
    "# Displaying a table showing different complaint types and respective counts\n",
    "display(data.groupby(by = 'Complaint_Type')[['Customer Complaint']].count().reset_index().rename({'Customer Complaint': \"Count\"}, axis=1).sort_values(by = 'Count', ascending = False).style.background_gradient(\"copper_r\"))\n",
    "\n",
    "# Plotting the Complaint types and count\n",
    "sns.countplot(data['Complaint_Type'], palette='copper')\n",
    "plt.title(\"Count of Types of complaints\", fontsize = 20)\n",
    "plt.xticks(fontsize = 15)\n",
    "plt.xlabel(\" \")\n",
    "plt.ylabel(\"Complaints Counts\")\n",
    "plt.show();"
   ]
  },
  {
   "cell_type": "markdown",
   "id": "overhead-texas",
   "metadata": {},
   "source": [
    "## Observations:\n",
    "><div class=\"alert alert-info\" role=\"alert\">\n",
    "><ul>\n",
    "><li>1. Above results, in order, shows table with:\n",
    "><br>Complaints, preprocessed complaints and complaint types.\n",
    "><br>Complaint_types and Counts\n",
    "><br>Countplot of Complaint_Type\n",
    "><li>2. We see that {Type:Internet issues} have the maximum complaints. Exact count being 750.</li>\n",
    "><li>3. {Type:Network/Speed issues} have the minimum complaints when compared to other types. Exact count 85.</li>\n",
    "></ul>\n",
    "></div>\n",
    "\n",
    "# Insights:\n",
    "## {Type:Internet issues} consists of words: {internet, data, cap}. Hence we could say most of customers have problem around internet, data and cap(capacity)."
   ]
  },
  {
   "cell_type": "code",
   "execution_count": 14,
   "id": "continent-sewing",
   "metadata": {
    "scrolled": false
   },
   "outputs": [
    {
     "data": {
      "text/html": [
       "<style  type=\"text/css\" >\n",
       "#T_f995c_row0_col0{\n",
       "            background-color:  #7f2704;\n",
       "            color:  #f1f1f1;\n",
       "        }#T_f995c_row1_col0{\n",
       "            background-color:  #cb4302;\n",
       "            color:  #f1f1f1;\n",
       "        }#T_f995c_row2_col0{\n",
       "            background-color:  #f16913;\n",
       "            color:  #000000;\n",
       "        }#T_f995c_row3_col0{\n",
       "            background-color:  #fdc38d;\n",
       "            color:  #000000;\n",
       "        }#T_f995c_row4_col0{\n",
       "            background-color:  #fff5eb;\n",
       "            color:  #000000;\n",
       "        }</style><table id=\"T_f995c_\" ><thead>    <tr>        <th class=\"blank level0\" ></th>        <th class=\"col_heading level0 col0\" >Percentage</th>    </tr></thead><tbody>\n",
       "                <tr>\n",
       "                        <th id=\"T_f995c_level0_row0\" class=\"row_heading level0 row0\" >Internet Issues</th>\n",
       "                        <td id=\"T_f995c_row0_col0\" class=\"data row0 col0\" >33.720000</td>\n",
       "            </tr>\n",
       "            <tr>\n",
       "                        <th id=\"T_f995c_level0_row1\" class=\"row_heading level0 row1\" >Customer_Services Issues</th>\n",
       "                        <td id=\"T_f995c_row1_col0\" class=\"data row1 col0\" >27.200000</td>\n",
       "            </tr>\n",
       "            <tr>\n",
       "                        <th id=\"T_f995c_level0_row2\" class=\"row_heading level0 row2\" >Comcast Issues</th>\n",
       "                        <td id=\"T_f995c_row2_col0\" class=\"data row2 col0\" >22.480000</td>\n",
       "            </tr>\n",
       "            <tr>\n",
       "                        <th id=\"T_f995c_level0_row3\" class=\"row_heading level0 row3\" >Others</th>\n",
       "                        <td id=\"T_f995c_row3_col0\" class=\"data row3 col0\" >12.770000</td>\n",
       "            </tr>\n",
       "            <tr>\n",
       "                        <th id=\"T_f995c_level0_row4\" class=\"row_heading level0 row4\" >Network/Speed Issues</th>\n",
       "                        <td id=\"T_f995c_row4_col0\" class=\"data row4 col0\" >3.820000</td>\n",
       "            </tr>\n",
       "    </tbody></table>"
      ],
      "text/plain": [
       "<pandas.io.formats.style.Styler at 0x2145fd11610>"
      ]
     },
     "execution_count": 14,
     "metadata": {},
     "output_type": "execute_result"
    }
   ],
   "source": [
    "# Finally we can even get percentage of the complaint types, by following percentage\n",
    "def get_simple_topic_percentage(topic):\n",
    "    \"\"\"\n",
    "    Returns a percentage of rows that this particular topic is found\n",
    "    in using simple string manipulation.\n",
    "    \n",
    "    topic: the customer complaint category entered by the customer.\n",
    "    \"\"\"\n",
    "    return round(data[data['Complaint_Type'].str.contains(topic, case=False)].shape[0] / len(data['Complaint_Type']) * 100, 2)\n",
    "    \n",
    "\n",
    "\n",
    "# Creating a dictionary of different issues and its respective percentage.\n",
    "percentage = {'Internet Issues': [get_simple_topic_percentage('Internet Issues')], 'Customer_Services Issues':[get_simple_topic_percentage('Customer_Services Issues')], \n",
    "        'Comcast Issues': [get_simple_topic_percentage('Comcast Issues')], 'Others':[ get_simple_topic_percentage('Others')], 'Network/Speed Issues': [get_simple_topic_percentage('Network/Speed Issues')]}\n",
    " \n",
    "# Create the pandas DataFrame\n",
    "df_percentage = pd.DataFrame(percentage).transpose().rename({0: 'Percentage'}, axis =1).style.background_gradient(\"Oranges\")\n",
    "\n",
    "\n",
    "df_percentage"
   ]
  },
  {
   "cell_type": "markdown",
   "id": "changed-transsexual",
   "metadata": {},
   "source": [
    "## Observations:\n",
    "><div class=\"alert alert-info\" role=\"alert\">\n",
    "><ul>\n",
    "><li>Percentage also proves the insights we metioned above i.e. internet issues has the highest percentage of complaints, value being 33.72%</li>\n",
    "></ul>\n",
    "></div>"
   ]
  },
  {
   "cell_type": "markdown",
   "id": "above-picnic",
   "metadata": {},
   "source": [
    "# Create a new categorical variable with value as Open and Closed.\n",
    "\n",
    "# Open & Pending is to be categorized as Open and Closed & Solved is to be categorized as Closed."
   ]
  },
  {
   "cell_type": "code",
   "execution_count": 15,
   "id": "technical-elements",
   "metadata": {
    "scrolled": false
   },
   "outputs": [
    {
     "name": "stdout",
     "output_type": "stream",
     "text": [
      "Unique Values in Column Status:  2\n"
     ]
    },
    {
     "data": {
      "text/html": [
       "<style  type=\"text/css\" >\n",
       "#T_1e63d_row0_col1{\n",
       "            background-color:  #2c3172;\n",
       "            color:  #f1f1f1;\n",
       "        }#T_1e63d_row1_col1{\n",
       "            background-color:  #a5cd90;\n",
       "            color:  #000000;\n",
       "        }</style><table id=\"T_1e63d_\" ><thead>    <tr>        <th class=\"blank level0\" ></th>        <th class=\"col_heading level0 col0\" >Status</th>        <th class=\"col_heading level0 col1\" >Count</th>    </tr></thead><tbody>\n",
       "                <tr>\n",
       "                        <th id=\"T_1e63d_level0_row0\" class=\"row_heading level0 row0\" >0</th>\n",
       "                        <td id=\"T_1e63d_row0_col0\" class=\"data row0 col0\" >Closed</td>\n",
       "                        <td id=\"T_1e63d_row0_col1\" class=\"data row0 col1\" >1707</td>\n",
       "            </tr>\n",
       "            <tr>\n",
       "                        <th id=\"T_1e63d_level0_row1\" class=\"row_heading level0 row1\" >1</th>\n",
       "                        <td id=\"T_1e63d_row1_col0\" class=\"data row1 col0\" >Open</td>\n",
       "                        <td id=\"T_1e63d_row1_col1\" class=\"data row1 col1\" >517</td>\n",
       "            </tr>\n",
       "    </tbody></table>"
      ],
      "text/plain": [
       "<pandas.io.formats.style.Styler at 0x2145d577b80>"
      ]
     },
     "execution_count": 15,
     "metadata": {},
     "output_type": "execute_result"
    }
   ],
   "source": [
    "data['Status'].replace({'Solved':'Closed','Pending':'Open'}, inplace= True)\n",
    "\n",
    "print('Unique Values in Column Status: ',data['Status'].nunique())\n",
    "data[['Status']].value_counts().to_frame().reset_index().rename({0: \"Count\"}, axis=1).style.background_gradient('crest')\n"
   ]
  },
  {
   "cell_type": "markdown",
   "id": "incorporated-bosnia",
   "metadata": {},
   "source": [
    "\n",
    "## Observations:\n",
    "><div class=\"alert alert-info\" role=\"alert\">\n",
    "><ul>\n",
    "><li>Status column had 4 levels which is now converted into 2 levels: Closed and Open which actually makes the dataset more clean and easy to read</li>\n",
    "></ul>\n",
    "></div>"
   ]
  },
  {
   "cell_type": "markdown",
   "id": "basic-rainbow",
   "metadata": {},
   "source": [
    "# Provide state wise status of complaints in a stacked bar chart"
   ]
  },
  {
   "cell_type": "code",
   "execution_count": 16,
   "id": "advisory-loading",
   "metadata": {},
   "outputs": [
    {
     "name": "stdout",
     "output_type": "stream",
     "text": [
      "Highest Complaints State wise:\n"
     ]
    },
    {
     "data": {
      "text/html": [
       "<style  type=\"text/css\" >\n",
       "#T_0d8b8_row0_col1{\n",
       "            background-color:  #67000d;\n",
       "            color:  #f1f1f1;\n",
       "        }#T_0d8b8_row1_col1{\n",
       "            background-color:  #da2723;\n",
       "            color:  #f1f1f1;\n",
       "        }#T_0d8b8_row2_col1{\n",
       "            background-color:  #f4503a;\n",
       "            color:  #000000;\n",
       "        }#T_0d8b8_row3_col1{\n",
       "            background-color:  #fdc5ae;\n",
       "            color:  #000000;\n",
       "        }#T_0d8b8_row4_col1{\n",
       "            background-color:  #fee7dc;\n",
       "            color:  #000000;\n",
       "        }#T_0d8b8_row5_col1{\n",
       "            background-color:  #fff5f0;\n",
       "            color:  #000000;\n",
       "        }</style><table id=\"T_0d8b8_\" ><thead>    <tr>        <th class=\"blank level0\" ></th>        <th class=\"col_heading level0 col0\" >State</th>        <th class=\"col_heading level0 col1\" >Count</th>    </tr></thead><tbody>\n",
       "                <tr>\n",
       "                        <th id=\"T_0d8b8_level0_row0\" class=\"row_heading level0 row0\" >0</th>\n",
       "                        <td id=\"T_0d8b8_row0_col0\" class=\"data row0 col0\" >Georgia</td>\n",
       "                        <td id=\"T_0d8b8_row0_col1\" class=\"data row0 col1\" >288</td>\n",
       "            </tr>\n",
       "            <tr>\n",
       "                        <th id=\"T_0d8b8_level0_row1\" class=\"row_heading level0 row1\" >1</th>\n",
       "                        <td id=\"T_0d8b8_row1_col0\" class=\"data row1 col0\" >Florida</td>\n",
       "                        <td id=\"T_0d8b8_row1_col1\" class=\"data row1 col1\" >240</td>\n",
       "            </tr>\n",
       "            <tr>\n",
       "                        <th id=\"T_0d8b8_level0_row2\" class=\"row_heading level0 row2\" >2</th>\n",
       "                        <td id=\"T_0d8b8_row2_col0\" class=\"data row2 col0\" >California</td>\n",
       "                        <td id=\"T_0d8b8_row2_col1\" class=\"data row2 col1\" >220</td>\n",
       "            </tr>\n",
       "            <tr>\n",
       "                        <th id=\"T_0d8b8_level0_row3\" class=\"row_heading level0 row3\" >3</th>\n",
       "                        <td id=\"T_0d8b8_row3_col0\" class=\"data row3 col0\" >Illinois</td>\n",
       "                        <td id=\"T_0d8b8_row3_col1\" class=\"data row3 col1\" >164</td>\n",
       "            </tr>\n",
       "            <tr>\n",
       "                        <th id=\"T_0d8b8_level0_row4\" class=\"row_heading level0 row4\" >4</th>\n",
       "                        <td id=\"T_0d8b8_row4_col0\" class=\"data row4 col0\" >Tennessee</td>\n",
       "                        <td id=\"T_0d8b8_row4_col1\" class=\"data row4 col1\" >143</td>\n",
       "            </tr>\n",
       "            <tr>\n",
       "                        <th id=\"T_0d8b8_level0_row5\" class=\"row_heading level0 row5\" >5</th>\n",
       "                        <td id=\"T_0d8b8_row5_col0\" class=\"data row5 col0\" >Pennsylvania</td>\n",
       "                        <td id=\"T_0d8b8_row5_col1\" class=\"data row5 col1\" >130</td>\n",
       "            </tr>\n",
       "    </tbody></table>"
      ],
      "text/plain": [
       "<pandas.io.formats.style.Styler at 0x2145fd1e6a0>"
      ]
     },
     "metadata": {},
     "output_type": "display_data"
    },
    {
     "name": "stdout",
     "output_type": "stream",
     "text": [
      "Lowest Complaints State wise:\n"
     ]
    },
    {
     "data": {
      "text/html": [
       "<style  type=\"text/css\" >\n",
       "#T_96850_row0_col1,#T_96850_row1_col1,#T_96850_row2_col1,#T_96850_row3_col1,#T_96850_row4_col1{\n",
       "            background-color:  #fff5f0;\n",
       "            color:  #000000;\n",
       "        }#T_96850_row5_col1{\n",
       "            background-color:  #67000d;\n",
       "            color:  #f1f1f1;\n",
       "        }</style><table id=\"T_96850_\" ><thead>    <tr>        <th class=\"blank level0\" ></th>        <th class=\"col_heading level0 col0\" >State</th>        <th class=\"col_heading level0 col1\" >Count</th>    </tr></thead><tbody>\n",
       "                <tr>\n",
       "                        <th id=\"T_96850_level0_row0\" class=\"row_heading level0 row0\" >0</th>\n",
       "                        <td id=\"T_96850_row0_col0\" class=\"data row0 col0\" >Nevada</td>\n",
       "                        <td id=\"T_96850_row0_col1\" class=\"data row0 col1\" >1</td>\n",
       "            </tr>\n",
       "            <tr>\n",
       "                        <th id=\"T_96850_level0_row1\" class=\"row_heading level0 row1\" >1</th>\n",
       "                        <td id=\"T_96850_row1_col0\" class=\"data row1 col0\" >Iowa</td>\n",
       "                        <td id=\"T_96850_row1_col1\" class=\"data row1 col1\" >1</td>\n",
       "            </tr>\n",
       "            <tr>\n",
       "                        <th id=\"T_96850_level0_row2\" class=\"row_heading level0 row2\" >2</th>\n",
       "                        <td id=\"T_96850_row2_col0\" class=\"data row2 col0\" >Montana</td>\n",
       "                        <td id=\"T_96850_row2_col1\" class=\"data row2 col1\" >1</td>\n",
       "            </tr>\n",
       "            <tr>\n",
       "                        <th id=\"T_96850_level0_row3\" class=\"row_heading level0 row3\" >3</th>\n",
       "                        <td id=\"T_96850_row3_col0\" class=\"data row3 col0\" >Rhode Island</td>\n",
       "                        <td id=\"T_96850_row3_col1\" class=\"data row3 col1\" >1</td>\n",
       "            </tr>\n",
       "            <tr>\n",
       "                        <th id=\"T_96850_level0_row4\" class=\"row_heading level0 row4\" >4</th>\n",
       "                        <td id=\"T_96850_row4_col0\" class=\"data row4 col0\" >District of Columbia</td>\n",
       "                        <td id=\"T_96850_row4_col1\" class=\"data row4 col1\" >1</td>\n",
       "            </tr>\n",
       "            <tr>\n",
       "                        <th id=\"T_96850_level0_row5\" class=\"row_heading level0 row5\" >5</th>\n",
       "                        <td id=\"T_96850_row5_col0\" class=\"data row5 col0\" >Kansas</td>\n",
       "                        <td id=\"T_96850_row5_col1\" class=\"data row5 col1\" >2</td>\n",
       "            </tr>\n",
       "    </tbody></table>"
      ],
      "text/plain": [
       "<pandas.io.formats.style.Styler at 0x2145d577e80>"
      ]
     },
     "metadata": {},
     "output_type": "display_data"
    }
   ],
   "source": [
    "print('Highest Complaints State wise:')\n",
    "display(data.groupby(['State']).size().sort_values(ascending = False).to_frame().head(6).reset_index().rename({0: \"Count\"}, axis = 1).style.background_gradient('Reds'))\n",
    "print('Lowest Complaints State wise:')\n",
    "display(data.groupby(['State']).size().sort_values().to_frame().head(6).reset_index().rename({0: \"Count\"}, axis = 1).style.background_gradient('Reds'))"
   ]
  },
  {
   "cell_type": "markdown",
   "id": "varied-broad",
   "metadata": {},
   "source": [
    "\n",
    "## Observations:\n",
    "><div class=\"alert alert-info\" role=\"alert\">\n",
    "><ul>\n",
    "><li>Above Tables show the Highest and Lowest Complaints statewise. Not taking in account that complaint is still open or aready closed. </li>\n",
    "><li>We see that Gorgia Florida and California has the highest complaints, count being 288, 240, 220 respectively.</li>\n",
    "><li>Naveda Iowa Montana Rhode islands District of Columbia has the lowest complaints count being 1 for each</li>\n",
    "><li>We need better tables which shows even the open and closed complaints separately to see what actually is going on behind these numbers.</li>\n",
    "></ul>\n",
    "></div>\n"
   ]
  },
  {
   "cell_type": "code",
   "execution_count": 17,
   "id": "single-mother",
   "metadata": {},
   "outputs": [
    {
     "name": "stdout",
     "output_type": "stream",
     "text": [
      "Highest Open and Closed Complaints State wise:\n"
     ]
    },
    {
     "data": {
      "text/html": [
       "<style  type=\"text/css\" >\n",
       "#T_c843e_row0_col0,#T_c843e_row0_col1{\n",
       "            background-color:  #3f007d;\n",
       "            color:  #f1f1f1;\n",
       "        }#T_c843e_row1_col0{\n",
       "            background-color:  #491285;\n",
       "            color:  #f1f1f1;\n",
       "        }#T_c843e_row1_col1{\n",
       "            background-color:  #cacae3;\n",
       "            color:  #000000;\n",
       "        }#T_c843e_row2_col0{\n",
       "            background-color:  #8c88bf;\n",
       "            color:  #000000;\n",
       "        }#T_c843e_row2_col1{\n",
       "            background-color:  #7669af;\n",
       "            color:  #000000;\n",
       "        }#T_c843e_row3_col0{\n",
       "            background-color:  #bebedd;\n",
       "            color:  #000000;\n",
       "        }#T_c843e_row3_col1{\n",
       "            background-color:  #ebe9f3;\n",
       "            color:  #000000;\n",
       "        }#T_c843e_row4_col0{\n",
       "            background-color:  #eae9f3;\n",
       "            color:  #000000;\n",
       "        }#T_c843e_row4_col1,#T_c843e_row6_col0{\n",
       "            background-color:  #fcfbfd;\n",
       "            color:  #000000;\n",
       "        }#T_c843e_row5_col0{\n",
       "            background-color:  #f9f7fb;\n",
       "            color:  #000000;\n",
       "        }#T_c843e_row5_col1{\n",
       "            background-color:  #aaa8d0;\n",
       "            color:  #000000;\n",
       "        }#T_c843e_row6_col1{\n",
       "            background-color:  #f7f6fa;\n",
       "            color:  #000000;\n",
       "        }</style><table id=\"T_c843e_\" ><thead>    <tr>        <th class=\"index_name level0\" >Status</th>        <th class=\"col_heading level0 col0\" >Closed</th>        <th class=\"col_heading level0 col1\" >Open</th>    </tr>    <tr>        <th class=\"index_name level0\" >State</th>        <th class=\"blank\" ></th>        <th class=\"blank\" ></th>    </tr></thead><tbody>\n",
       "                <tr>\n",
       "                        <th id=\"T_c843e_level0_row0\" class=\"row_heading level0 row0\" >Georgia</th>\n",
       "                        <td id=\"T_c843e_row0_col0\" class=\"data row0 col0\" >208.000000</td>\n",
       "                        <td id=\"T_c843e_row0_col1\" class=\"data row0 col1\" >80.000000</td>\n",
       "            </tr>\n",
       "            <tr>\n",
       "                        <th id=\"T_c843e_level0_row1\" class=\"row_heading level0 row1\" >Florida</th>\n",
       "                        <td id=\"T_c843e_row1_col0\" class=\"data row1 col0\" >201.000000</td>\n",
       "                        <td id=\"T_c843e_row1_col1\" class=\"data row1 col1\" >39.000000</td>\n",
       "            </tr>\n",
       "            <tr>\n",
       "                        <th id=\"T_c843e_level0_row2\" class=\"row_heading level0 row2\" >California</th>\n",
       "                        <td id=\"T_c843e_row2_col0\" class=\"data row2 col0\" >159.000000</td>\n",
       "                        <td id=\"T_c843e_row2_col1\" class=\"data row2 col1\" >61.000000</td>\n",
       "            </tr>\n",
       "            <tr>\n",
       "                        <th id=\"T_c843e_level0_row3\" class=\"row_heading level0 row3\" >Illinois</th>\n",
       "                        <td id=\"T_c843e_row3_col0\" class=\"data row3 col0\" >135.000000</td>\n",
       "                        <td id=\"T_c843e_row3_col1\" class=\"data row3 col1\" >29.000000</td>\n",
       "            </tr>\n",
       "            <tr>\n",
       "                        <th id=\"T_c843e_level0_row4\" class=\"row_heading level0 row4\" >Pennsylvania</th>\n",
       "                        <td id=\"T_c843e_row4_col0\" class=\"data row4 col0\" >110.000000</td>\n",
       "                        <td id=\"T_c843e_row4_col1\" class=\"data row4 col1\" >20.000000</td>\n",
       "            </tr>\n",
       "            <tr>\n",
       "                        <th id=\"T_c843e_level0_row5\" class=\"row_heading level0 row5\" >Tennessee</th>\n",
       "                        <td id=\"T_c843e_row5_col0\" class=\"data row5 col0\" >96.000000</td>\n",
       "                        <td id=\"T_c843e_row5_col1\" class=\"data row5 col1\" >47.000000</td>\n",
       "            </tr>\n",
       "            <tr>\n",
       "                        <th id=\"T_c843e_level0_row6\" class=\"row_heading level0 row6\" >Michigan</th>\n",
       "                        <td id=\"T_c843e_row6_col0\" class=\"data row6 col0\" >92.000000</td>\n",
       "                        <td id=\"T_c843e_row6_col1\" class=\"data row6 col1\" >23.000000</td>\n",
       "            </tr>\n",
       "    </tbody></table>"
      ],
      "text/plain": [
       "<pandas.io.formats.style.Styler at 0x2145fd46460>"
      ]
     },
     "metadata": {},
     "output_type": "display_data"
    },
    {
     "name": "stdout",
     "output_type": "stream",
     "text": [
      "Lowest Open and Closed Complaints State wise:\n"
     ]
    },
    {
     "data": {
      "text/html": [
       "<style  type=\"text/css\" >\n",
       "#T_c636b_row0_col0,#T_c636b_row0_col1,#T_c636b_row1_col0,#T_c636b_row2_col0,#T_c636b_row2_col1,#T_c636b_row3_col0,#T_c636b_row3_col1,#T_c636b_row4_col0,#T_c636b_row4_col1,#T_c636b_row5_col0,#T_c636b_row5_col1{\n",
       "            background-color:  #fcfbfd;\n",
       "            color:  #000000;\n",
       "        }#T_c636b_row1_col1,#T_c636b_row6_col0,#T_c636b_row6_col1{\n",
       "            background-color:  #3f007d;\n",
       "            color:  #f1f1f1;\n",
       "        }</style><table id=\"T_c636b_\" ><thead>    <tr>        <th class=\"index_name level0\" >Status</th>        <th class=\"col_heading level0 col0\" >Closed</th>        <th class=\"col_heading level0 col1\" >Open</th>    </tr>    <tr>        <th class=\"index_name level0\" >State</th>        <th class=\"blank\" ></th>        <th class=\"blank\" ></th>    </tr></thead><tbody>\n",
       "                <tr>\n",
       "                        <th id=\"T_c636b_level0_row0\" class=\"row_heading level0 row0\" >Nevada</th>\n",
       "                        <td id=\"T_c636b_row0_col0\" class=\"data row0 col0\" >1.000000</td>\n",
       "                        <td id=\"T_c636b_row0_col1\" class=\"data row0 col1\" >0.000000</td>\n",
       "            </tr>\n",
       "            <tr>\n",
       "                        <th id=\"T_c636b_level0_row1\" class=\"row_heading level0 row1\" >Kansas</th>\n",
       "                        <td id=\"T_c636b_row1_col0\" class=\"data row1 col0\" >1.000000</td>\n",
       "                        <td id=\"T_c636b_row1_col1\" class=\"data row1 col1\" >1.000000</td>\n",
       "            </tr>\n",
       "            <tr>\n",
       "                        <th id=\"T_c636b_level0_row2\" class=\"row_heading level0 row2\" >Iowa</th>\n",
       "                        <td id=\"T_c636b_row2_col0\" class=\"data row2 col0\" >1.000000</td>\n",
       "                        <td id=\"T_c636b_row2_col1\" class=\"data row2 col1\" >0.000000</td>\n",
       "            </tr>\n",
       "            <tr>\n",
       "                        <th id=\"T_c636b_level0_row3\" class=\"row_heading level0 row3\" >Montana</th>\n",
       "                        <td id=\"T_c636b_row3_col0\" class=\"data row3 col0\" >1.000000</td>\n",
       "                        <td id=\"T_c636b_row3_col1\" class=\"data row3 col1\" >0.000000</td>\n",
       "            </tr>\n",
       "            <tr>\n",
       "                        <th id=\"T_c636b_level0_row4\" class=\"row_heading level0 row4\" >District of Columbia</th>\n",
       "                        <td id=\"T_c636b_row4_col0\" class=\"data row4 col0\" >1.000000</td>\n",
       "                        <td id=\"T_c636b_row4_col1\" class=\"data row4 col1\" >0.000000</td>\n",
       "            </tr>\n",
       "            <tr>\n",
       "                        <th id=\"T_c636b_level0_row5\" class=\"row_heading level0 row5\" >Rhode Island</th>\n",
       "                        <td id=\"T_c636b_row5_col0\" class=\"data row5 col0\" >1.000000</td>\n",
       "                        <td id=\"T_c636b_row5_col1\" class=\"data row5 col1\" >0.000000</td>\n",
       "            </tr>\n",
       "            <tr>\n",
       "                        <th id=\"T_c636b_level0_row6\" class=\"row_heading level0 row6\" >Vermont</th>\n",
       "                        <td id=\"T_c636b_row6_col0\" class=\"data row6 col0\" >2.000000</td>\n",
       "                        <td id=\"T_c636b_row6_col1\" class=\"data row6 col1\" >1.000000</td>\n",
       "            </tr>\n",
       "    </tbody></table>"
      ],
      "text/plain": [
       "<pandas.io.formats.style.Styler at 0x2145fd1e880>"
      ]
     },
     "metadata": {},
     "output_type": "display_data"
    },
    {
     "data": {
      "image/png": "[encoded data removed]",
      "text/plain": [
       "<Figure size 1152x576 with 1 Axes>"
      ]
     },
     "metadata": {},
     "output_type": "display_data"
    }
   ],
   "source": [
    "print('Highest Open and Closed Complaints State wise:')\n",
    "display(data.groupby([\"State\",\"Status\"]).size().unstack().sort_values(by='Closed', ascending = False).fillna(0).head(7).style.background_gradient('Purples'))\n",
    "\n",
    "print('Lowest Open and Closed Complaints State wise:')\n",
    "display(data.groupby([\"State\",\"Status\"]).size().unstack().sort_values(by='Closed').fillna(0).head(7).style.background_gradient('Purples'))\n",
    "\n",
    "Status_complaints=data.groupby([\"State\",\"Status\"]).size().unstack().fillna(0)\n",
    "Status_complaints.plot(kind=\"bar\", stacked=True)\n",
    "plt.title(\"Stacked bar chart for State wise status of complaints\", fontsize = 20)\n",
    "plt.xticks(fontsize = 15)\n",
    "plt.xlabel(\"States\")\n",
    "plt.ylabel(\"Complaints_Stacked\")\n",
    "plt.show();"
   ]
  },
  {
   "cell_type": "markdown",
   "id": "breathing-visitor",
   "metadata": {},
   "source": [
    "## Observations:\n",
    "><div class=\"alert alert-info\" role=\"alert\">\n",
    "><ul>\n",
    "><li>Above two tables shows the Highest and Lowest Open and Closed complaints state wise.</li>\n",
    "><li>We see that Geogia is highest for both Open and Closed complaints. </li>\n",
    "><li>Stacked Bar Chart clearly shows the closed complaints are more than open complaints overall. </li>\n",
    "><li>We also observe that Florida has good closing rate in terms of complaints as they have 201 Closed complaints and only 39 open complaints.</li>\n",
    "></ul>\n",
    "></div>\n"
   ]
  },
  {
   "cell_type": "markdown",
   "id": "heavy-pasta",
   "metadata": {},
   "source": [
    "# Which state has the maximum complaints"
   ]
  },
  {
   "cell_type": "code",
   "execution_count": 18,
   "id": "general-bowling",
   "metadata": {},
   "outputs": [
    {
     "name": "stdout",
     "output_type": "stream",
     "text": [
      "Highest Complaints State wise:\n"
     ]
    },
    {
     "data": {
      "text/html": [
       "<style  type=\"text/css\" >\n",
       "#T_66c2f_row0_col1{\n",
       "            background-color:  #67000d;\n",
       "            color:  #f1f1f1;\n",
       "        }</style><table id=\"T_66c2f_\" ><thead>    <tr>        <th class=\"blank level0\" ></th>        <th class=\"col_heading level0 col0\" >State</th>        <th class=\"col_heading level0 col1\" >Count</th>    </tr></thead><tbody>\n",
       "                <tr>\n",
       "                        <th id=\"T_66c2f_level0_row0\" class=\"row_heading level0 row0\" >0</th>\n",
       "                        <td id=\"T_66c2f_row0_col0\" class=\"data row0 col0\" >Georgia</td>\n",
       "                        <td id=\"T_66c2f_row0_col1\" class=\"data row0 col1\" >288</td>\n",
       "            </tr>\n",
       "    </tbody></table>"
      ],
      "text/plain": [
       "<pandas.io.formats.style.Styler at 0x2145f767340>"
      ]
     },
     "metadata": {},
     "output_type": "display_data"
    }
   ],
   "source": [
    "print('Highest Complaints State wise:')\n",
    "display(data.groupby(['State']).size().sort_values(ascending = False).to_frame().head(1).reset_index().rename({0: \"Count\"}, axis = 1).style.background_gradient('Reds_r'))"
   ]
  },
  {
   "cell_type": "code",
   "execution_count": 19,
   "id": "enhanced-sacramento",
   "metadata": {},
   "outputs": [
    {
     "name": "stdout",
     "output_type": "stream",
     "text": [
      "Highest Open and Closed Complaints State wise:\n"
     ]
    },
    {
     "data": {
      "text/html": [
       "<style  type=\"text/css\" >\n",
       "#T_283c5_row0_col0,#T_283c5_row0_col1{\n",
       "            background-color:  #3f007d;\n",
       "            color:  #f1f1f1;\n",
       "        }</style><table id=\"T_283c5_\" ><thead>    <tr>        <th class=\"index_name level0\" >Status</th>        <th class=\"col_heading level0 col0\" >Closed</th>        <th class=\"col_heading level0 col1\" >Open</th>    </tr>    <tr>        <th class=\"index_name level0\" >State</th>        <th class=\"blank\" ></th>        <th class=\"blank\" ></th>    </tr></thead><tbody>\n",
       "                <tr>\n",
       "                        <th id=\"T_283c5_level0_row0\" class=\"row_heading level0 row0\" >Georgia</th>\n",
       "                        <td id=\"T_283c5_row0_col0\" class=\"data row0 col0\" >208.000000</td>\n",
       "                        <td id=\"T_283c5_row0_col1\" class=\"data row0 col1\" >80.000000</td>\n",
       "            </tr>\n",
       "    </tbody></table>"
      ],
      "text/plain": [
       "<pandas.io.formats.style.Styler at 0x2145f8a4df0>"
      ]
     },
     "metadata": {},
     "output_type": "display_data"
    }
   ],
   "source": [
    "print('Highest Open and Closed Complaints State wise:')\n",
    "display(data.groupby([\"State\",\"Status\"]).size().unstack().sort_values(by='Closed', ascending = False).fillna(0).head(1).style.background_gradient('Purples_r'))"
   ]
  },
  {
   "cell_type": "markdown",
   "id": "stopped-sport",
   "metadata": {},
   "source": [
    "# Which state has the highest percentage of unresolved complaints\n",
    "## Formula used : (number of complaints/total complaints) * 100  "
   ]
  },
  {
   "cell_type": "code",
   "execution_count": 20,
   "id": "future-enough",
   "metadata": {},
   "outputs": [
    {
     "name": "stdout",
     "output_type": "stream",
     "text": [
      "State with highest percentage of unresolved complaints\n"
     ]
    },
    {
     "data": {
      "text/html": [
       "<style  type=\"text/css\" >\n",
       "#T_d270e_row0_col1,#T_d270e_row0_col2{\n",
       "            background-color:  #67000d;\n",
       "            color:  #f1f1f1;\n",
       "        }</style><table id=\"T_d270e_\" ><thead>    <tr>        <th class=\"index_name level0\" >Status</th>        <th class=\"col_heading level0 col0\" >State</th>        <th class=\"col_heading level0 col1\" >Open</th>        <th class=\"col_heading level0 col2\" >percentage</th>    </tr></thead><tbody>\n",
       "                <tr>\n",
       "                        <th id=\"T_d270e_level0_row0\" class=\"row_heading level0 row0\" >10</th>\n",
       "                        <td id=\"T_d270e_row0_col0\" class=\"data row0 col0\" >Georgia</td>\n",
       "                        <td id=\"T_d270e_row0_col1\" class=\"data row0 col1\" >80.000000</td>\n",
       "                        <td id=\"T_d270e_row0_col2\" class=\"data row0 col2\" >15.473888</td>\n",
       "            </tr>\n",
       "    </tbody></table>"
      ],
      "text/plain": [
       "<pandas.io.formats.style.Styler at 0x2145fda22e0>"
      ]
     },
     "execution_count": 20,
     "metadata": {},
     "output_type": "execute_result"
    }
   ],
   "source": [
    "complaints = data.groupby(['Status', 'State']).size().unstack().fillna(0).transpose().reset_index()[['State','Open']]\n",
    "\n",
    "\n",
    "complaints['percentage'] = (complaints['Open'] / \n",
    "                  complaints['Open'].sum()) * 100\n",
    "print(\"State with highest percentage of unresolved complaints\")\n",
    "complaints.sort_values(by ='percentage', ascending = False ).head(1).style.background_gradient('Reds_r')"
   ]
  },
  {
   "cell_type": "markdown",
   "id": "refined-angola",
   "metadata": {},
   "source": [
    "## Observations:\n",
    "><div class=\"alert alert-info\" role=\"alert\">\n",
    "><ul>\n",
    "><li>Georgia has the highest percentage of unresolved complaints.</li>\n",
    "></ul>\n",
    "></div>"
   ]
  },
  {
   "cell_type": "markdown",
   "id": "upset-kazakhstan",
   "metadata": {},
   "source": [
    "# Provide the percentage of complaints resolved till date, which were received through the Internet and customer care calls."
   ]
  },
  {
   "cell_type": "code",
   "execution_count": 21,
   "id": "technical-revolution",
   "metadata": {},
   "outputs": [
    {
     "name": "stdout",
     "output_type": "stream",
     "text": [
      "Percentage of RESSOLVED Complaints received via Customer Care Call and Internet\n"
     ]
    },
    {
     "data": {
      "text/html": [
       "<style  type=\"text/css\" >\n",
       "#T_a07aa_row0_col1,#T_a07aa_row0_col2{\n",
       "            background-color:  #00441b;\n",
       "            color:  #f1f1f1;\n",
       "        }#T_a07aa_row1_col1,#T_a07aa_row1_col2{\n",
       "            background-color:  #f7fcf5;\n",
       "            color:  #000000;\n",
       "        }</style><table id=\"T_a07aa_\" ><thead>    <tr>        <th class=\"blank level0\" ></th>        <th class=\"col_heading level0 col0\" >Received Via</th>        <th class=\"col_heading level0 col1\" >Status</th>        <th class=\"col_heading level0 col2\" >Percentage</th>    </tr></thead><tbody>\n",
       "                <tr>\n",
       "                        <th id=\"T_a07aa_level0_row0\" class=\"row_heading level0 row0\" >0</th>\n",
       "                        <td id=\"T_a07aa_row0_col0\" class=\"data row0 col0\" >Customer Care Call</td>\n",
       "                        <td id=\"T_a07aa_row0_col1\" class=\"data row0 col1\" >864</td>\n",
       "                        <td id=\"T_a07aa_row0_col2\" class=\"data row0 col2\" >50.620000</td>\n",
       "            </tr>\n",
       "            <tr>\n",
       "                        <th id=\"T_a07aa_level0_row1\" class=\"row_heading level0 row1\" >1</th>\n",
       "                        <td id=\"T_a07aa_row1_col0\" class=\"data row1 col0\" >Internet</td>\n",
       "                        <td id=\"T_a07aa_row1_col1\" class=\"data row1 col1\" >843</td>\n",
       "                        <td id=\"T_a07aa_row1_col2\" class=\"data row1 col2\" >49.380000</td>\n",
       "            </tr>\n",
       "    </tbody></table>"
      ],
      "text/plain": [
       "<pandas.io.formats.style.Styler at 0x2145f75f190>"
      ]
     },
     "execution_count": 21,
     "metadata": {},
     "output_type": "execute_result"
    }
   ],
   "source": [
    "\n",
    "complaints = data[(data['Status'] == 'Closed') & ((data['Received Via'] == 'Internet') | (data['Received Via'] =='Customer Care Call'))][['Status','Received Via']]\n",
    "complaints_via_internet_CustomerCare = complaints.groupby('Received Via').count().reset_index()\n",
    "\n",
    "complaints_via_internet_CustomerCare['Percentage'] = round((complaints_via_internet_CustomerCare['Status'] /\n",
    "                                                        complaints_via_internet_CustomerCare['Status'].sum())* 100, 2)\n",
    "print(\"Percentage of RESSOLVED Complaints received via Customer Care Call and Internet\")\n",
    "complaints_via_internet_CustomerCare.style.background_gradient('Greens')"
   ]
  },
  {
   "cell_type": "markdown",
   "id": "racial-staff",
   "metadata": {},
   "source": [
    "\n",
    "## Observations:\n",
    "><div class=\"alert alert-info\" role=\"alert\">\n",
    "><ul>\n",
    "><li>Ressolved Complaints via Internet is 49.38%</li>\n",
    "><li>Ressolved Complaints via Customer Care Call is 50.62%</li>\n",
    "><li>We see that there almost same amount of complaints closed via Customer care and Internet.</li>\n",
    "></ul>\n",
    "></div>"
   ]
  },
  {
   "cell_type": "markdown",
   "id": "processed-stocks",
   "metadata": {},
   "source": [
    "# Conclusion\n",
    "><div class=\"alert alert-info\" role=\"alert\">\n",
    "><ul>\n",
    "><li>6th month ('June') observed the heighest complaints from the customers. 1046 being maximum.</li>\n",
    "><li>11th month ('November') observed lowest complaints from the customers. 38 being the minimum.</li>\n",
    "><li>Complaints were maximum during 23 June to 25 June. 215 complaints being maximum</li>\n",
    "><li>Complaints were minimum on 4th Nov. Exact count being 5.</li>\n",
    "><li>{Type:Internet issues} consists of words: {internet, data, cap}. Hence we could say most of customers have problem around internet, data and cap(capacity).</li>\n",
    "><li>Percentage also proves the insights we metioned above i.e. internet issues has the highest percentage of complaints, value being 33.72%</li>\n",
    "><li>We see that Gorgia Florida and California has the highest complaints, count being 288, 240, 220 respectively.</li>\n",
    "><li>We also observe that Florida has good closing rate in terms of complaints as they have 201 Closed complaints and only 39 open complaints.</li>\n",
    "><li>We see that Georgia is highest for both Open and Closed complaints. value being 15.47%</li>\n",
    "><li>Ressolved Complaints via Internet is 49.38% </li>\n",
    "><li>Ressolved Complaints via Customer Care Call is 50.62%</li>\n",
    "></ul>\n",
    "></div>"
   ]
  }
 ],
 "metadata": {
  "kernelspec": {
   "display_name": "Python 3",
   "language": "python",
   "name": "python3"
  },
  "language_info": {
   "codemirror_mode": {
    "name": "ipython",
    "version": 3
   },
   "file_extension": ".py",
   "mimetype": "text/x-python",
   "name": "python",
   "nbconvert_exporter": "python",
   "pygments_lexer": "ipython3",
   "version": "3.8.5"
  }
 },
 "nbformat": 4,
 "nbformat_minor": 5
}
